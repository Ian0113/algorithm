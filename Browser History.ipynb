{
 "cells": [
  {
   "cell_type": "markdown",
   "metadata": {},
   "source": [
    "# Design Browser History\n",
    "You have a browser of one tab where you start on the homepage and you can visit another url, get back in the history number of steps or move forward in the history number of steps.\n",
    "\n",
    "Implement the BrowserHistory class:\n",
    "\n",
    "BrowserHistory(string homepage) Initializes the object with the homepage of the browser.\n",
    "void visit(string url) Visits url from the current page. It clears up all the forward history.\n",
    "string back(int steps) Move steps back in history. If you can only return x steps in the history and steps > x, you will return only x steps. Return the current url after moving back in history at most steps.\n",
    "string forward(int steps) Move steps forward in history. If you can only forward x steps in the history and steps > x, you will forward only x steps. Return the current url after forwarding in history at most steps.\n",
    " \n",
    "\n",
    "## Example:\n",
    "```\n",
    "Input:\n",
    "[\"BrowserHistory\",\"visit\",\"visit\",\"visit\",\"back\",\"back\",\"forward\",\"visit\",\"forward\",\"back\",\"back\"]\n",
    "[[\"leetcode.com\"],[\"google.com\"],[\"facebook.com\"],[\"youtube.com\"],[1],[1],[1],[\"linkedin.com\"],[2],[2],[7]]\n",
    "Output:\n",
    "[null,null,null,null,\"facebook.com\",\"google.com\",\"facebook.com\",null,\"linkedin.com\",\"google.com\",\"leetcode.com\"]\n",
    "\n",
    "Explanation:\n",
    "BrowserHistory browserHistory = new BrowserHistory(\"leetcode.com\");\n",
    "browserHistory.visit(\"google.com\");       // You are in \"leetcode.com\". Visit \"google.com\"\n",
    "browserHistory.visit(\"facebook.com\");     // You are in \"google.com\". Visit \"facebook.com\"\n",
    "browserHistory.visit(\"youtube.com\");      // You are in \"facebook.com\". Visit \"youtube.com\"\n",
    "browserHistory.back(1);                   // You are in \"youtube.com\", move back to \"facebook.com\" return \"facebook.com\"\n",
    "browserHistory.back(1);                   // You are in \"facebook.com\", move back to \"google.com\" return \"google.com\"\n",
    "browserHistory.forward(1);                // You are in \"google.com\", move forward to \"facebook.com\" return \"facebook.com\"\n",
    "browserHistory.visit(\"linkedin.com\");     // You are in \"facebook.com\". Visit \"linkedin.com\"\n",
    "browserHistory.forward(2);                // You are in \"linkedin.com\", you cannot move forward any steps.\n",
    "browserHistory.back(2);                   // You are in \"linkedin.com\", move back two steps to \"facebook.com\" then to \"google.com\". return \"google.com\"\n",
    "browserHistory.back(7);                   // You are in \"google.com\", you can move back only one step to \"leetcode.com\". return \"leetcode.com\"\n",
    "```\n",
    "\n",
    "Constraints:\n",
    "* 1 <= homepage.length <= 20\n",
    "* 1 <= url.length <= 20\n",
    "* 1 <= steps <= 100\n",
    "* homepage and url consist of  '.' or lower case English letters.\n",
    "* At most 5000 calls will be made to visit, back, and forward."
   ]
  },
  {
   "cell_type": "markdown",
   "metadata": {},
   "source": [
    "# Hint 1.\n",
    "Use two stack one for back history and one for forward history and simulate the functions."
   ]
  },
  {
   "cell_type": "code",
   "execution_count": 1,
   "metadata": {},
   "outputs": [],
   "source": [
    "class BrowserHistory:\n",
    "\n",
    "    def __init__(self, homepage: str):\n",
    "        self.now = homepage\n",
    "        self.lst_fw = self.lst_bk = []\n",
    "\n",
    "\n",
    "    def visit(self, url: str) -> None:\n",
    "        self.lst_fw = [] # .................................................... 刪除返回路徑\n",
    "        self.lst_bk.append(self.now)\n",
    "        self.now = url\n",
    "\n",
    "    def back(self, steps: int) -> str:\n",
    "        if steps > 0 and len(self.lst_bk) > 0:\n",
    "            self.lst_fw.append(self.now) # .................................... 將self.now放入lst_fw\n",
    "            self.now = self.lst_bk.pop() # .................................... 將lst_bk pop 進self.now\n",
    "            return self.back(steps-1) # ....................................... 依steps遞減  更新上面兩行直至條件不符合\n",
    "        return self.now\n",
    "\n",
    "        \n",
    "    def forward(self, steps: int) -> str:\n",
    "        if steps > 0 and len(self.lst_fw) > 0:\n",
    "            self.lst_bk.append(self.now) # .................................... 將self.now放入lst_bk\n",
    "            self.now = self.lst_fw.pop() # .................................... 將lst_fw pop 進self.now\n",
    "            return self.forward(steps-1) # .................................... 依steps遞減  更新上面兩行直至條件不符合\n",
    "        return self.now\n"
   ]
  },
  {
   "cell_type": "code",
   "execution_count": 2,
   "metadata": {},
   "outputs": [],
   "source": [
    "def runTest(actions, args):\n",
    "    obj = None\n",
    "    outputs = []\n",
    "    for action, arg in zip(actions, args):\n",
    "        if action  == 'BrowserHistory':\n",
    "            obj = BrowserHistory(arg[0])\n",
    "            outputs.append(None)\n",
    "        elif action == 'visit':\n",
    "            obj.visit(arg[0])\n",
    "            outputs.append(None)\n",
    "        elif action == 'back':\n",
    "            outputs.append(obj.back(arg[0]))\n",
    "        elif action == 'forward':\n",
    "            outputs.append(obj.forward(arg[0]))\n",
    "    return outputs"
   ]
  },
  {
   "cell_type": "code",
   "execution_count": 3,
   "metadata": {},
   "outputs": [],
   "source": [
    "# example 1\n",
    "actions = [\"BrowserHistory\",\"visit\",\"visit\",\"visit\",\"back\",\"back\",\"forward\",\"visit\",\"forward\",\"back\",\"back\"]\n",
    "args = [[\"leetcode.com\"],[\"google.com\"],[\"facebook.com\"],[\"youtube.com\"],[1],[1],[1],[\"linkedin.com\"],[2],[2],[7]]\n",
    "expecteds = [None,None,None,None,\"facebook.com\",\"google.com\",\"facebook.com\",None,\"linkedin.com\",\"google.com\",\"leetcode.com\"]"
   ]
  },
  {
   "cell_type": "code",
   "execution_count": 4,
   "metadata": {},
   "outputs": [
    {
     "name": "stdout",
     "output_type": "stream",
     "text": [
      "[True, True, True, True, True, True, True, True, True, True, True]\n"
     ]
    }
   ],
   "source": [
    "outputs = runTest(actions, args)\n",
    "print([output==expected for output, expected in zip(outputs, expecteds)])"
   ]
  },
  {
   "cell_type": "code",
   "execution_count": 5,
   "metadata": {},
   "outputs": [],
   "source": [
    "# example 2\n",
    "actions = [\"BrowserHistory\",\"visit\",\"back\",\"back\",\"forward\",\"forward\",\"visit\",\"visit\",\"back\"]\n",
    "args = [[\"zav.com\"],[\"kni.com\"],[7],[7],[5],[1],[\"pwrrbnw.com\"],[\"mosohif.com\"],[9]]\n",
    "expecteds = [None,None,\"zav.com\",\"zav.com\",\"kni.com\",\"kni.com\",None,None,\"zav.com\"]"
   ]
  },
  {
   "cell_type": "code",
   "execution_count": 6,
   "metadata": {},
   "outputs": [
    {
     "name": "stdout",
     "output_type": "stream",
     "text": [
      "[True, True, True, True, True, True, True, True, True]\n"
     ]
    }
   ],
   "source": [
    "outputs = runTest(actions, args)\n",
    "print([output==expected for output, expected in zip(outputs, expecteds)])"
   ]
  },
  {
   "cell_type": "code",
   "execution_count": 7,
   "metadata": {},
   "outputs": [],
   "source": [
    "# example 3\n",
    "actions = [\"BrowserHistory\",\"visit\",\"forward\",\"back\",\"visit\",\"visit\",\"visit\",\"visit\",\"back\",\"visit\",\"back\",\"forward\",\"visit\",\"visit\",\"visit\"]\n",
    "args = [[\"hdqqhm.com\"],[\"yltqtsj.com\"],[1],[1],[\"cyv.com\"],[\"vbpvni.com\"],[\"opy.com\"],[\"kbyzp.com\"],[7],[\"fchhxaz.com\"],[6],[9],[\"rg.com\"],[\"oemqn.com\"],[\"hyqsb.com\"]]\n",
    "expecteds = [None,None,\"yltqtsj.com\",\"hdqqhm.com\",None,None,None,None,\"hdqqhm.com\",None,\"hdqqhm.com\",\"fchhxaz.com\",None,None,None]"
   ]
  },
  {
   "cell_type": "code",
   "execution_count": 8,
   "metadata": {},
   "outputs": [
    {
     "name": "stdout",
     "output_type": "stream",
     "text": [
      "[True, True, True, True, True, True, True, True, True, True, True, True, True, True, True]\n"
     ]
    }
   ],
   "source": [
    "outputs = runTest(actions, args)\n",
    "print([output==expected for output, expected in zip(outputs, expecteds)])"
   ]
  },
  {
   "cell_type": "markdown",
   "metadata": {},
   "source": [
    "# other"
   ]
  },
  {
   "cell_type": "code",
   "execution_count": 9,
   "metadata": {},
   "outputs": [],
   "source": [
    "class BrowserHistory2:\n",
    "\n",
    "    def __init__(self, homepage: str):\n",
    "        self.pointer = 0\n",
    "        self.history = []\n",
    "        self.visit(homepage)\n",
    "\n",
    "    def visit(self, url: str) -> None:\n",
    "        del self.history[(self.pointer+1):] # .................................. 清除self.pointer右邊紀錄 刪除返回路徑\n",
    "        self.history.append(url)\n",
    "        self.pointer = len(self.history)-1\n",
    "\n",
    "    def back(self, steps: int) -> str:\n",
    "        if steps > 0 and self.pointer-1 > -1:\n",
    "            self.pointer -= 1 # ................................................ 將self.pointer向左移\n",
    "            return self.back(steps-1) # ........................................ 依steps遞迴 直至條件不符合\n",
    "        return self.history[self.pointer]\n",
    "\n",
    "    def forward(self, steps: int) -> str:\n",
    "        if steps > 0 and self.pointer+1 < len(self.history):\n",
    "            self.pointer += 1 # ................................................ 將self.pointer向右移\n",
    "            return self.forward(steps-1) # ..................................... 依steps遞迴 直至條件不符合\n",
    "        return self.history[self.pointer]"
   ]
  },
  {
   "cell_type": "code",
   "execution_count": 10,
   "metadata": {},
   "outputs": [],
   "source": [
    "def runTest(actions, args):\n",
    "    obj = None\n",
    "    outputs = []\n",
    "    for action, arg in zip(actions, args):\n",
    "        if action  == 'BrowserHistory':\n",
    "            obj = BrowserHistory2(arg[0])\n",
    "            outputs.append(None)\n",
    "        elif action == 'visit':\n",
    "            obj.visit(arg[0])\n",
    "            outputs.append(None)\n",
    "        elif action == 'back':\n",
    "            outputs.append(obj.back(arg[0]))\n",
    "        elif action == 'forward':\n",
    "            outputs.append(obj.forward(arg[0]))\n",
    "    return outputs"
   ]
  },
  {
   "cell_type": "code",
   "execution_count": 11,
   "metadata": {},
   "outputs": [],
   "source": [
    "# example 1\n",
    "actions = [\"BrowserHistory\",\"visit\",\"visit\",\"visit\",\"back\",\"back\",\"forward\",\"visit\",\"forward\",\"back\",\"back\"]\n",
    "args = [[\"leetcode.com\"],[\"google.com\"],[\"facebook.com\"],[\"youtube.com\"],[1],[1],[1],[\"linkedin.com\"],[2],[2],[7]]\n",
    "expecteds = [None,None,None,None,\"facebook.com\",\"google.com\",\"facebook.com\",None,\"linkedin.com\",\"google.com\",\"leetcode.com\"]"
   ]
  },
  {
   "cell_type": "code",
   "execution_count": 12,
   "metadata": {},
   "outputs": [
    {
     "name": "stdout",
     "output_type": "stream",
     "text": [
      "[True, True, True, True, True, True, True, True, True, True, True]\n"
     ]
    }
   ],
   "source": [
    "outputs = runTest(actions, args)\n",
    "print([output==expected for output, expected in zip(outputs, expecteds)])"
   ]
  },
  {
   "cell_type": "code",
   "execution_count": 13,
   "metadata": {},
   "outputs": [],
   "source": [
    "# example 2\n",
    "actions = [\"BrowserHistory\",\"visit\",\"back\",\"back\",\"forward\",\"forward\",\"visit\",\"visit\",\"back\"]\n",
    "args = [[\"zav.com\"],[\"kni.com\"],[7],[7],[5],[1],[\"pwrrbnw.com\"],[\"mosohif.com\"],[9]]\n",
    "expecteds = [None,None,\"zav.com\",\"zav.com\",\"kni.com\",\"kni.com\",None,None,\"zav.com\"]"
   ]
  },
  {
   "cell_type": "code",
   "execution_count": 14,
   "metadata": {},
   "outputs": [
    {
     "name": "stdout",
     "output_type": "stream",
     "text": [
      "[True, True, True, True, True, True, True, True, True]\n"
     ]
    }
   ],
   "source": [
    "outputs = runTest(actions, args)\n",
    "print([output==expected for output, expected in zip(outputs, expecteds)])"
   ]
  },
  {
   "cell_type": "code",
   "execution_count": 15,
   "metadata": {},
   "outputs": [],
   "source": [
    "# example 3\n",
    "actions = [\"BrowserHistory\",\"visit\",\"forward\",\"back\",\"visit\",\"visit\",\"visit\",\"visit\",\"back\",\"visit\",\"back\",\"forward\",\"visit\",\"visit\",\"visit\"]\n",
    "args = [[\"hdqqhm.com\"],[\"yltqtsj.com\"],[1],[1],[\"cyv.com\"],[\"vbpvni.com\"],[\"opy.com\"],[\"kbyzp.com\"],[7],[\"fchhxaz.com\"],[6],[9],[\"rg.com\"],[\"oemqn.com\"],[\"hyqsb.com\"]]\n",
    "expecteds = [None,None,\"yltqtsj.com\",\"hdqqhm.com\",None,None,None,None,\"hdqqhm.com\",None,\"hdqqhm.com\",\"fchhxaz.com\",None,None,None]"
   ]
  },
  {
   "cell_type": "code",
   "execution_count": 16,
   "metadata": {},
   "outputs": [
    {
     "name": "stdout",
     "output_type": "stream",
     "text": [
      "[True, True, True, True, True, True, True, True, True, True, True, True, True, True, True]\n"
     ]
    }
   ],
   "source": [
    "outputs = runTest(actions, args)\n",
    "print([output==expected for output, expected in zip(outputs, expecteds)])"
   ]
  },
  {
   "cell_type": "code",
   "execution_count": null,
   "metadata": {},
   "outputs": [],
   "source": []
  },
  {
   "cell_type": "code",
   "execution_count": null,
   "metadata": {},
   "outputs": [],
   "source": []
  },
  {
   "cell_type": "code",
   "execution_count": null,
   "metadata": {},
   "outputs": [],
   "source": []
  }
 ],
 "metadata": {
  "kernelspec": {
   "display_name": "Python 3",
   "language": "python",
   "name": "python3"
  },
  "language_info": {
   "codemirror_mode": {
    "name": "ipython",
    "version": 3
   },
   "file_extension": ".py",
   "mimetype": "text/x-python",
   "name": "python",
   "nbconvert_exporter": "python",
   "pygments_lexer": "ipython3",
   "version": "3.7.5"
  }
 },
 "nbformat": 4,
 "nbformat_minor": 4
}
