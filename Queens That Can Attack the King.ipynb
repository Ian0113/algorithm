{
 "cells": [
  {
   "cell_type": "markdown",
   "metadata": {},
   "source": [
    "# Queens That Can Attack the King\n",
    "On an 8x8 chessboard, there can be multiple Black Queens and one White King.\n",
    "\n",
    "Given an array of integer coordinates `queens` that represents the positions of the Black Queens, and a pair of coordinates `king` that represent the position of the White King, return the coordinates of all the queens (in any order) that can attack the King.\n",
    "\n",
    "\n",
    "## Example 1:\n",
    "\n",
    ">![image.png](https://assets.leetcode.com/uploads/2019/10/01/untitled-diagram.jpg)\n",
    ">```\n",
    "Input: queens = [[0,1],[1,0],[4,0],[0,4],[3,3],[2,4]], king = [0,0]\n",
    "Output: [[0,1],[1,0],[3,3]]\n",
    "Explanation: \n",
    "The queen at [0,1] can attack the king cause they're in the same row. \n",
    "The queen at [1,0] can attack the king cause they're in the same column. \n",
    "The queen at [3,3] can attack the king cause they're in the same diagnal. \n",
    "The queen at [0,4] can't attack the king cause it's blocked by the queen at [0,1]. \n",
    "The queen at [4,0] can't attack the king cause it's blocked by the queen at [1,0]. \n",
    "The queen at [2,4] can't attack the king cause it's not in the same row/column/diagnal as the king.\n",
    ">```\n",
    "\n",
    "\n",
    "## Example 2:\n",
    ">![image.png](https://assets.leetcode.com/uploads/2019/10/01/untitled-diagram-1.jpg)\n",
    ">```\n",
    "Input: queens = [[0,0],[1,1],[2,2],[3,4],[3,5],[4,4],[4,5]], king = [3,3]\n",
    "Output: [[2,2],[3,4],[4,4]]\n",
    ">```\n",
    "\n",
    "## Example 3:\n",
    ">![image.png](https://assets.leetcode.com/uploads/2019/10/01/untitled-diagram-2.jpg)\n",
    ">```\n",
    "Input: queens = [[5,6],[7,7],[2,1],[0,7],[1,6],[5,1],[3,7],[0,3],[4,0],[1,2],[6,3],[5,0],[0,4],[2,2],[1,1],[6,4],[5,4],[0,0],[2,6],[4,5],[5,2],[1,4],[7,5],[2,3],[0,5],[4,2],[1,0],[2,7],[0,1],[4,6],[6,1],[0,6],[4,3],[1,7]], king = [3,4]\n",
    "Output: [[2,3],[1,4],[1,6],[3,7],[4,3],[5,4],[4,5]]\n",
    ">```\n",
    "\n",
    "\n",
    "## Constraints:\n",
    "\n",
    "* 1 <= queens.length <= 63\n",
    "* queens[0].length == 2\n",
    "* 0 <= queens[i][j] < 8\n",
    "* king.length == 2\n",
    "* 0 <= king[0], king[1] < 8\n",
    "* At most one piece is allowed in a cell.\n"
   ]
  },
  {
   "cell_type": "code",
   "execution_count": 1,
   "metadata": {},
   "outputs": [],
   "source": [
    "def checkQueenCloser(nowQueen, targetQueen, king):\n",
    "    if nowQueen == None:\n",
    "        # 代表未放入\n",
    "        return targetQueen\n",
    "    if ((targetQueen[0]-king[0])**2 + (targetQueen[1]-king[1])**2) < ((nowQueen[0] - king[0])**2 + (nowQueen[1] - king[1])**2):\n",
    "        # targetQueen距離更近\n",
    "        return targetQueen\n",
    "    return nowQueen"
   ]
  },
  {
   "cell_type": "code",
   "execution_count": 2,
   "metadata": {},
   "outputs": [],
   "source": [
    "def queensAttacktheKing(queens, king):\n",
    "    lst_CanAttack = {\n",
    "        'T': None,\n",
    "        'B': None,\n",
    "        'L': None,\n",
    "        'R': None,\n",
    "        'LT': None,\n",
    "        'RT': None,\n",
    "        'LB': None,\n",
    "        'RB': None,\n",
    "    }\n",
    "\n",
    "    for queen in queens:\n",
    "        \n",
    "        if queen[0] == king[0]:\n",
    "            # row\n",
    "            if queen[1] < king[1]:\n",
    "                lst_CanAttack['L'] = checkQueenCloser(lst_CanAttack['L'], queen, king)\n",
    "\n",
    "#             elif queen[1] > king[1]:\n",
    "            else:\n",
    "                lst_CanAttack['R'] = checkQueenCloser(lst_CanAttack['R'], queen, king)\n",
    "\n",
    "        elif queen[1] == king[1]:\n",
    "            # column\n",
    "            if queen[0] < king[0]:\n",
    "                lst_CanAttack['B'] = checkQueenCloser(lst_CanAttack['B'], queen, king)\n",
    "\n",
    "#             elif queen[0] > king[0]:\n",
    "            else:\n",
    "                lst_CanAttack['T'] = checkQueenCloser(lst_CanAttack['T'], queen, king)\n",
    "\n",
    "        elif (queen[0] - king[0])**2 == (queen[1] - king[1])**2:\n",
    "            # diagnal\n",
    "            if (queen[0] - king[0]) < 0 and (queen[1] - king[1]) > 0:\n",
    "                lst_CanAttack['LT'] = checkQueenCloser(lst_CanAttack['LT'], queen, king)\n",
    "\n",
    "            elif (queen[0] - king[0]) > 0 and (queen[1] - king[1]) > 0:\n",
    "                lst_CanAttack['RT'] = checkQueenCloser(lst_CanAttack['RT'], queen, king)\n",
    "\n",
    "            elif (queen[0] - king[0]) < 0 and (queen[1] - king[1]) < 0:\n",
    "                lst_CanAttack['LB'] = checkQueenCloser(lst_CanAttack['LB'], queen, king)\n",
    "\n",
    "    #         elif (queen[0] - king[0]) > 0 and (queen[1] - king[1]) < 0:\n",
    "            else:\n",
    "                lst_CanAttack['RB'] = checkQueenCloser(lst_CanAttack['RB'], queen, king)\n",
    "\n",
    "    return [v for v in lst_CanAttack.values() if v != None]\n"
   ]
  },
  {
   "cell_type": "code",
   "execution_count": 3,
   "metadata": {},
   "outputs": [
    {
     "data": {
      "text/plain": [
       "[[1, 0], [0, 1], [3, 3]]"
      ]
     },
     "execution_count": 3,
     "metadata": {},
     "output_type": "execute_result"
    }
   ],
   "source": [
    "# Example 1\n",
    "queens = [[0,1],[1,0],[4,0],[0,4],[3,3],[2,4]]\n",
    "king = [0,0]\n",
    "queensAttacktheKing(queens, king)"
   ]
  },
  {
   "cell_type": "code",
   "execution_count": 4,
   "metadata": {},
   "outputs": [
    {
     "data": {
      "text/plain": [
       "[[3, 4], [4, 4], [2, 2]]"
      ]
     },
     "execution_count": 4,
     "metadata": {},
     "output_type": "execute_result"
    }
   ],
   "source": [
    "# Example 2\n",
    "queens = [[0,0],[1,1],[2,2],[3,4],[3,5],[4,4],[4,5]]\n",
    "king = [3,3]\n",
    "queensAttacktheKing(queens, king)"
   ]
  },
  {
   "cell_type": "code",
   "execution_count": 5,
   "metadata": {},
   "outputs": [
    {
     "data": {
      "text/plain": [
       "[[5, 4], [1, 4], [3, 7], [1, 6], [4, 5], [2, 3], [4, 3]]"
      ]
     },
     "execution_count": 5,
     "metadata": {},
     "output_type": "execute_result"
    }
   ],
   "source": [
    "# Example 3\n",
    "queens = [[5,6],[7,7],[2,1],[0,7],[1,6],[5,1],[3,7],[0,3],[4,0],[1,2],[6,3],[5,0],[0,4],[2,2],[1,1],[6,4],[5,4],[0,0],[2,6],[4,5],[5,2],[1,4],[7,5],[2,3],[0,5],[4,2],[1,0],[2,7],[0,1],[4,6],[6,1],[0,6],[4,3],[1,7]]\n",
    "king = [3,4]\n",
    "queensAttacktheKing(queens, king)"
   ]
  },
  {
   "cell_type": "code",
   "execution_count": null,
   "metadata": {},
   "outputs": [],
   "source": []
  },
  {
   "cell_type": "code",
   "execution_count": null,
   "metadata": {},
   "outputs": [],
   "source": []
  }
 ],
 "metadata": {
  "kernelspec": {
   "display_name": "Python 3",
   "language": "python",
   "name": "python3"
  },
  "language_info": {
   "codemirror_mode": {
    "name": "ipython",
    "version": 3
   },
   "file_extension": ".py",
   "mimetype": "text/x-python",
   "name": "python",
   "nbconvert_exporter": "python",
   "pygments_lexer": "ipython3",
   "version": "3.7.5"
  }
 },
 "nbformat": 4,
 "nbformat_minor": 4
}
